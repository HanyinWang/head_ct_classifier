{
 "cells": [
  {
   "cell_type": "code",
   "execution_count": 1,
   "metadata": {
    "collapsed": true
   },
   "outputs": [],
   "source": [
    "import os\n",
    "import numpy as np\n",
    "import pandas as pd\n",
    "from sklearn.model_selection import train_test_split\n",
    "import matplotlib.pyplot as plt"
   ]
  },
  {
   "cell_type": "code",
   "execution_count": 2,
   "metadata": {
    "collapsed": true
   },
   "outputs": [],
   "source": [
    "os.chdir('/home/hwi3319/COMP_SCI_496_SML/Slices')"
   ]
  },
  {
   "cell_type": "code",
   "execution_count": 3,
   "metadata": {
    "collapsed": true
   },
   "outputs": [],
   "source": [
    "slices = os.listdir()"
   ]
  },
  {
   "cell_type": "code",
   "execution_count": 4,
   "metadata": {
    "collapsed": true
   },
   "outputs": [],
   "source": [
    "pt_list = []\n",
    "for s in slices:\n",
    "    pt = s.split('_')[0]\n",
    "    pt_list.append(pt)"
   ]
  },
  {
   "cell_type": "code",
   "execution_count": 5,
   "metadata": {
    "collapsed": true
   },
   "outputs": [],
   "source": [
    "slices = pd.DataFrame(slices)"
   ]
  },
  {
   "cell_type": "code",
   "execution_count": 6,
   "metadata": {
    "collapsed": true
   },
   "outputs": [],
   "source": [
    "slices.index = pt_list\n",
    "slices.columns = ['img']"
   ]
  },
  {
   "cell_type": "code",
   "execution_count": 7,
   "metadata": {},
   "outputs": [
    {
     "data": {
      "text/html": [
       "<div>\n",
       "<style scoped>\n",
       "    .dataframe tbody tr th:only-of-type {\n",
       "        vertical-align: middle;\n",
       "    }\n",
       "\n",
       "    .dataframe tbody tr th {\n",
       "        vertical-align: top;\n",
       "    }\n",
       "\n",
       "    .dataframe thead th {\n",
       "        text-align: right;\n",
       "    }\n",
       "</style>\n",
       "<table border=\"1\" class=\"dataframe\">\n",
       "  <thead>\n",
       "    <tr style=\"text-align: right;\">\n",
       "      <th></th>\n",
       "      <th>img</th>\n",
       "    </tr>\n",
       "  </thead>\n",
       "  <tbody>\n",
       "    <tr>\n",
       "      <th>CQ500-CT-0</th>\n",
       "      <td>CQ500-CT-0_Slice0.npy</td>\n",
       "    </tr>\n",
       "    <tr>\n",
       "      <th>CQ500-CT-0</th>\n",
       "      <td>CQ500-CT-0_Slice1.npy</td>\n",
       "    </tr>\n",
       "    <tr>\n",
       "      <th>CQ500-CT-0</th>\n",
       "      <td>CQ500-CT-0_Slice2.npy</td>\n",
       "    </tr>\n",
       "    <tr>\n",
       "      <th>CQ500-CT-0</th>\n",
       "      <td>CQ500-CT-0_Slice3.npy</td>\n",
       "    </tr>\n",
       "    <tr>\n",
       "      <th>CQ500-CT-0</th>\n",
       "      <td>CQ500-CT-0_Slice4.npy</td>\n",
       "    </tr>\n",
       "    <tr>\n",
       "      <th>...</th>\n",
       "      <td>...</td>\n",
       "    </tr>\n",
       "    <tr>\n",
       "      <th>CQ500-CT-99</th>\n",
       "      <td>CQ500-CT-99_Slice23.npy</td>\n",
       "    </tr>\n",
       "    <tr>\n",
       "      <th>CQ500-CT-99</th>\n",
       "      <td>CQ500-CT-99_Slice24.npy</td>\n",
       "    </tr>\n",
       "    <tr>\n",
       "      <th>CQ500-CT-99</th>\n",
       "      <td>CQ500-CT-99_Slice25.npy</td>\n",
       "    </tr>\n",
       "    <tr>\n",
       "      <th>CQ500-CT-99</th>\n",
       "      <td>CQ500-CT-99_Slice26.npy</td>\n",
       "    </tr>\n",
       "    <tr>\n",
       "      <th>CQ500-CT-99</th>\n",
       "      <td>CQ500-CT-99_Slice27.npy</td>\n",
       "    </tr>\n",
       "  </tbody>\n",
       "</table>\n",
       "<p>9268 rows × 1 columns</p>\n",
       "</div>"
      ],
      "text/plain": [
       "                                 img\n",
       "CQ500-CT-0     CQ500-CT-0_Slice0.npy\n",
       "CQ500-CT-0     CQ500-CT-0_Slice1.npy\n",
       "CQ500-CT-0     CQ500-CT-0_Slice2.npy\n",
       "CQ500-CT-0     CQ500-CT-0_Slice3.npy\n",
       "CQ500-CT-0     CQ500-CT-0_Slice4.npy\n",
       "...                              ...\n",
       "CQ500-CT-99  CQ500-CT-99_Slice23.npy\n",
       "CQ500-CT-99  CQ500-CT-99_Slice24.npy\n",
       "CQ500-CT-99  CQ500-CT-99_Slice25.npy\n",
       "CQ500-CT-99  CQ500-CT-99_Slice26.npy\n",
       "CQ500-CT-99  CQ500-CT-99_Slice27.npy\n",
       "\n",
       "[9268 rows x 1 columns]"
      ]
     },
     "execution_count": 7,
     "metadata": {},
     "output_type": "execute_result"
    }
   ],
   "source": [
    "slices"
   ]
  },
  {
   "cell_type": "code",
   "execution_count": 9,
   "metadata": {
    "collapsed": true
   },
   "outputs": [],
   "source": [
    "os.chdir('/home/hwi3319/COMP_SCI_496_SML')\n",
    "labels = pd.read_csv('summary_label.csv')"
   ]
  },
  {
   "cell_type": "code",
   "execution_count": 10,
   "metadata": {
    "collapsed": true
   },
   "outputs": [],
   "source": [
    "labels.index = labels['name']"
   ]
  },
  {
   "cell_type": "code",
   "execution_count": 11,
   "metadata": {
    "collapsed": true
   },
   "outputs": [],
   "source": [
    "labels = labels[['ICH', 'IPH', 'IVH', 'SDH', 'EDH', 'SAH',\n",
    "       'BleedLocation-Left', 'BleedLocation-Right', 'ChronicBleed', 'Fracture',\n",
    "       'CalvarialFracture', 'OtherFracture', 'MassEffect', 'MidlineShift']]"
   ]
  },
  {
   "cell_type": "code",
   "execution_count": 25,
   "metadata": {
    "collapsed": true
   },
   "outputs": [],
   "source": [
    "pt_list = np.sort(list(set(pt_list)))"
   ]
  },
  {
   "cell_type": "code",
   "execution_count": 26,
   "metadata": {
    "collapsed": true
   },
   "outputs": [],
   "source": [
    "pt_dic = {}\n",
    "for i in range(len(pt_list)):\n",
    "    pt_dic.update({pt_list[i]: None})"
   ]
  },
  {
   "cell_type": "code",
   "execution_count": 37,
   "metadata": {
    "scrolled": true
   },
   "outputs": [],
   "source": [
    "os.chdir('/home/hwi3319/COMP_SCI_496_SML/Slices')\n",
    "for pt in pt_list:\n",
    "    arr_list = np.empty((224,224,84))\n",
    "    for num in range(0,28):\n",
    "        arr = np.load(pt + '_Slice' + str(num) + '.npy', allow_pickle=True)\n",
    "        arr_list[:,:,3*num:(3*num+3)] = arr    \n",
    "    pt_dic.update({pt: arr_list})"
   ]
  },
  {
   "cell_type": "code",
   "execution_count": 38,
   "metadata": {
    "collapsed": true,
    "scrolled": true
   },
   "outputs": [],
   "source": [
    "lb_dic = {}\n",
    "for pt in pt_list:\n",
    "    lb_dic.update({pt:labels[labels.index == pt]})"
   ]
  },
  {
   "cell_type": "code",
   "execution_count": 39,
   "metadata": {
    "collapsed": true
   },
   "outputs": [],
   "source": [
    "# (train+val) vs test\n",
    "img_train_pt, img_test_pt, lb_train_pt, lb_test_pt = train_test_split(\n",
    "    pt_list, pt_list, test_size=0.2, random_state=42)"
   ]
  },
  {
   "cell_type": "code",
   "execution_count": 40,
   "metadata": {
    "collapsed": true
   },
   "outputs": [],
   "source": [
    "img_test = []\n",
    "lb_test = []\n",
    "for pt in img_test_pt:\n",
    "    img_test.append(pt_dic[pt])\n",
    "    lb_test.append(np.asarray(lb_dic[pt]))"
   ]
  },
  {
   "cell_type": "code",
   "execution_count": 41,
   "metadata": {
    "collapsed": true
   },
   "outputs": [],
   "source": [
    "# train vs val\n",
    "img_train_pt_final, img_val_pt, lb_train_pt_final, lb_val_pt = train_test_split(\n",
    "    img_train_pt, lb_train_pt, test_size=0.2, random_state=42)"
   ]
  },
  {
   "cell_type": "code",
   "execution_count": 42,
   "metadata": {
    "collapsed": true
   },
   "outputs": [],
   "source": [
    "img_train = []\n",
    "lb_train = []\n",
    "for pt in img_train_pt_final:\n",
    "    img_train.append(pt_dic[pt])\n",
    "    lb_train.append(np.asarray(lb_dic[pt]))"
   ]
  },
  {
   "cell_type": "code",
   "execution_count": 43,
   "metadata": {
    "collapsed": true
   },
   "outputs": [],
   "source": [
    "img_val = []\n",
    "lb_val = []\n",
    "for pt in img_val_pt:\n",
    "    img_val.append(pt_dic[pt])\n",
    "    lb_val.append(np.asarray(lb_dic[pt]))"
   ]
  },
  {
   "cell_type": "code",
   "execution_count": 62,
   "metadata": {},
   "outputs": [
    {
     "data": {
      "text/plain": [
       "(224, 224, 84)"
      ]
     },
     "execution_count": 62,
     "metadata": {},
     "output_type": "execute_result"
    }
   ],
   "source": [
    "np.array(img_train[0]).shape"
   ]
  },
  {
   "cell_type": "code",
   "execution_count": 728,
   "metadata": {
    "collapsed": true
   },
   "outputs": [],
   "source": [
    "np.save('/home/hwi3319/COMP_SCI_496_SML/train/train_img.npy', img_train)\n",
    "np.save('/home/hwi3319/COMP_SCI_496_SML/train/train_lb.npy', lb_train)\n",
    "\n",
    "np.save('/home/hwi3319/COMP_SCI_496_SML/test/test_img.npy', img_test)\n",
    "np.save('/home/hwi3319/COMP_SCI_496_SML/test/test_lb.npy', lb_test)\n",
    "\n",
    "np.save('/home/hwi3319/COMP_SCI_496_SML/validate/val_img.npy', img_val)\n",
    "np.save('/home/hwi3319/COMP_SCI_496_SML/validate/val_lb.npy', lb_val)"
   ]
  },
  {
   "cell_type": "code",
   "execution_count": null,
   "metadata": {
    "collapsed": true
   },
   "outputs": [],
   "source": []
  }
 ],
 "metadata": {
  "kernelspec": {
   "display_name": "torch-env",
   "language": "python",
   "name": "torch-env"
  },
  "language_info": {
   "codemirror_mode": {
    "name": "ipython",
    "version": 3
   },
   "file_extension": ".py",
   "mimetype": "text/x-python",
   "name": "python",
   "nbconvert_exporter": "python",
   "pygments_lexer": "ipython3",
   "version": "3.7.6"
  }
 },
 "nbformat": 4,
 "nbformat_minor": 2
}
